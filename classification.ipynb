{
 "cells": [
  {
   "cell_type": "code",
   "execution_count": 11,
   "metadata": {},
   "outputs": [],
   "source": [
    "import pandas as pd\n",
    "data = pd.read_csv('heart_statlog_cleveland_hungary_final.csv')\n",
    "data.head()\n",
    "df = pd.DataFrame(data)\n"
   ]
  },
  {
   "cell_type": "code",
   "execution_count": 12,
   "metadata": {},
   "outputs": [
    {
     "data": {
      "text/plain": [
       "False"
      ]
     },
     "execution_count": 12,
     "metadata": {},
     "output_type": "execute_result"
    }
   ],
   "source": [
    "pd.isna(any(df))"
   ]
  },
  {
   "cell_type": "code",
   "execution_count": 13,
   "metadata": {},
   "outputs": [
    {
     "data": {
      "text/plain": [
       "True"
      ]
     },
     "execution_count": 13,
     "metadata": {},
     "output_type": "execute_result"
    }
   ],
   "source": [
    "any(df.duplicated())"
   ]
  },
  {
   "cell_type": "code",
   "execution_count": 14,
   "metadata": {},
   "outputs": [],
   "source": [
    "df = df.drop_duplicates()"
   ]
  },
  {
   "cell_type": "code",
   "execution_count": 15,
   "metadata": {},
   "outputs": [
    {
     "data": {
      "text/plain": [
       "False"
      ]
     },
     "execution_count": 15,
     "metadata": {},
     "output_type": "execute_result"
    }
   ],
   "source": [
    "any(df.duplicated())"
   ]
  },
  {
   "cell_type": "code",
   "execution_count": 16,
   "metadata": {},
   "outputs": [],
   "source": [
    "target = df['target']\n",
    "features = df.drop('target', axis=1)"
   ]
  },
  {
   "cell_type": "code",
   "execution_count": 4,
   "metadata": {},
   "outputs": [],
   "source": [
    "# import ydata profiling raport\n",
    "from ydata_profiling import ProfileReport\n",
    "profile = ProfileReport(df, title=\"Profiling Report\")"
   ]
  },
  {
   "cell_type": "code",
   "execution_count": 6,
   "metadata": {},
   "outputs": [
    {
     "name": "stderr",
     "output_type": "stream",
     "text": [
      "c:\\ProgramData\\Anaconda3\\lib\\site-packages\\ydata_profiling\\profile_report.py:363: UserWarning: Try running command: 'pip install --upgrade Pillow' to avoid ValueError\n",
      "  warnings.warn(\n"
     ]
    },
    {
     "data": {
      "application/vnd.jupyter.widget-view+json": {
       "model_id": "5fac8336c36246788807ff5cbf7543f5",
       "version_major": 2,
       "version_minor": 0
      },
      "text/plain": [
       "Summarize dataset:   0%|          | 0/5 [00:00<?, ?it/s]"
      ]
     },
     "metadata": {},
     "output_type": "display_data"
    },
    {
     "data": {
      "application/vnd.jupyter.widget-view+json": {
       "model_id": "10d18302641642788020637574a4e4a3",
       "version_major": 2,
       "version_minor": 0
      },
      "text/plain": [
       "Generate report structure:   0%|          | 0/1 [00:00<?, ?it/s]"
      ]
     },
     "metadata": {},
     "output_type": "display_data"
    },
    {
     "data": {
      "application/vnd.jupyter.widget-view+json": {
       "model_id": "70ff07f299264d3d82f89f5809380929",
       "version_major": 2,
       "version_minor": 0
      },
      "text/plain": [
       "Render HTML:   0%|          | 0/1 [00:00<?, ?it/s]"
      ]
     },
     "metadata": {},
     "output_type": "display_data"
    },
    {
     "data": {
      "application/vnd.jupyter.widget-view+json": {
       "model_id": "c737774c0b0f45e0b5e416274713ff3a",
       "version_major": 2,
       "version_minor": 0
      },
      "text/plain": [
       "Export report to file:   0%|          | 0/1 [00:00<?, ?it/s]"
      ]
     },
     "metadata": {},
     "output_type": "display_data"
    }
   ],
   "source": [
    "profile.to_file(\"output.html\")\n"
   ]
  },
  {
   "cell_type": "code",
   "execution_count": 4,
   "metadata": {},
   "outputs": [
    {
     "data": {
      "text/html": [
       "<div>\n",
       "<style scoped>\n",
       "    .dataframe tbody tr th:only-of-type {\n",
       "        vertical-align: middle;\n",
       "    }\n",
       "\n",
       "    .dataframe tbody tr th {\n",
       "        vertical-align: top;\n",
       "    }\n",
       "\n",
       "    .dataframe thead th {\n",
       "        text-align: right;\n",
       "    }\n",
       "</style>\n",
       "<table border=\"1\" class=\"dataframe\">\n",
       "  <thead>\n",
       "    <tr style=\"text-align: right;\">\n",
       "      <th></th>\n",
       "      <th>age</th>\n",
       "      <th>sex</th>\n",
       "      <th>chest pain type</th>\n",
       "      <th>resting bp s</th>\n",
       "      <th>cholesterol</th>\n",
       "      <th>fasting blood sugar</th>\n",
       "      <th>resting ecg</th>\n",
       "      <th>max heart rate</th>\n",
       "      <th>exercise angina</th>\n",
       "      <th>oldpeak</th>\n",
       "      <th>ST slope</th>\n",
       "    </tr>\n",
       "  </thead>\n",
       "  <tbody>\n",
       "    <tr>\n",
       "      <th>count</th>\n",
       "      <td>1.190000e+03</td>\n",
       "      <td>1.190000e+03</td>\n",
       "      <td>1.190000e+03</td>\n",
       "      <td>1.190000e+03</td>\n",
       "      <td>1.190000e+03</td>\n",
       "      <td>1.190000e+03</td>\n",
       "      <td>1.190000e+03</td>\n",
       "      <td>1.190000e+03</td>\n",
       "      <td>1.190000e+03</td>\n",
       "      <td>1.190000e+03</td>\n",
       "      <td>1.190000e+03</td>\n",
       "    </tr>\n",
       "    <tr>\n",
       "      <th>mean</th>\n",
       "      <td>-2.627217e-16</td>\n",
       "      <td>8.359326e-17</td>\n",
       "      <td>-2.985474e-18</td>\n",
       "      <td>3.030256e-16</td>\n",
       "      <td>7.165137e-17</td>\n",
       "      <td>5.970947e-17</td>\n",
       "      <td>-2.388379e-17</td>\n",
       "      <td>-4.060244e-16</td>\n",
       "      <td>7.762232e-17</td>\n",
       "      <td>8.956421e-17</td>\n",
       "      <td>-3.582568e-17</td>\n",
       "    </tr>\n",
       "    <tr>\n",
       "      <th>std</th>\n",
       "      <td>1.000420e+00</td>\n",
       "      <td>1.000420e+00</td>\n",
       "      <td>1.000420e+00</td>\n",
       "      <td>1.000420e+00</td>\n",
       "      <td>1.000420e+00</td>\n",
       "      <td>1.000420e+00</td>\n",
       "      <td>1.000420e+00</td>\n",
       "      <td>1.000420e+00</td>\n",
       "      <td>1.000420e+00</td>\n",
       "      <td>1.000420e+00</td>\n",
       "      <td>1.000420e+00</td>\n",
       "    </tr>\n",
       "    <tr>\n",
       "      <th>min</th>\n",
       "      <td>-2.749564e+00</td>\n",
       "      <td>-1.798576e+00</td>\n",
       "      <td>-2.387770e+00</td>\n",
       "      <td>-7.197486e+00</td>\n",
       "      <td>-2.075047e+00</td>\n",
       "      <td>-5.209295e-01</td>\n",
       "      <td>-8.026723e-01</td>\n",
       "      <td>-3.125928e+00</td>\n",
       "      <td>-7.952189e-01</td>\n",
       "      <td>-3.244162e+00</td>\n",
       "      <td>-2.662017e+00</td>\n",
       "    </tr>\n",
       "    <tr>\n",
       "      <th>25%</th>\n",
       "      <td>-7.184065e-01</td>\n",
       "      <td>5.559954e-01</td>\n",
       "      <td>-2.489320e-01</td>\n",
       "      <td>-6.619309e-01</td>\n",
       "      <td>-2.205991e-01</td>\n",
       "      <td>-5.209295e-01</td>\n",
       "      <td>-8.026723e-01</td>\n",
       "      <td>-7.344195e-01</td>\n",
       "      <td>-7.952189e-01</td>\n",
       "      <td>-8.497924e-01</td>\n",
       "      <td>-1.023217e+00</td>\n",
       "    </tr>\n",
       "    <tr>\n",
       "      <th>50%</th>\n",
       "      <td>2.991489e-02</td>\n",
       "      <td>5.559954e-01</td>\n",
       "      <td>8.204870e-01</td>\n",
       "      <td>-1.173013e-01</td>\n",
       "      <td>1.838284e-01</td>\n",
       "      <td>-5.209295e-01</td>\n",
       "      <td>-8.026723e-01</td>\n",
       "      <td>3.007918e-02</td>\n",
       "      <td>-7.952189e-01</td>\n",
       "      <td>-2.972455e-01</td>\n",
       "      <td>6.155828e-01</td>\n",
       "    </tr>\n",
       "    <tr>\n",
       "      <th>75%</th>\n",
       "      <td>6.713332e-01</td>\n",
       "      <td>5.559954e-01</td>\n",
       "      <td>8.204870e-01</td>\n",
       "      <td>4.273283e-01</td>\n",
       "      <td>5.857899e-01</td>\n",
       "      <td>-5.209295e-01</td>\n",
       "      <td>1.496197e+00</td>\n",
       "      <td>7.945778e-01</td>\n",
       "      <td>1.257515e+00</td>\n",
       "      <td>6.236660e-01</td>\n",
       "      <td>6.155828e-01</td>\n",
       "    </tr>\n",
       "    <tr>\n",
       "      <th>max</th>\n",
       "      <td>2.488685e+00</td>\n",
       "      <td>5.559954e-01</td>\n",
       "      <td>8.204870e-01</td>\n",
       "      <td>3.695106e+00</td>\n",
       "      <td>3.872997e+00</td>\n",
       "      <td>1.919646e+00</td>\n",
       "      <td>1.496197e+00</td>\n",
       "      <td>2.441190e+00</td>\n",
       "      <td>1.257515e+00</td>\n",
       "      <td>4.859859e+00</td>\n",
       "      <td>2.254383e+00</td>\n",
       "    </tr>\n",
       "  </tbody>\n",
       "</table>\n",
       "</div>"
      ],
      "text/plain": [
       "                age           sex  chest pain type  resting bp s  \\\n",
       "count  1.190000e+03  1.190000e+03     1.190000e+03  1.190000e+03   \n",
       "mean  -2.627217e-16  8.359326e-17    -2.985474e-18  3.030256e-16   \n",
       "std    1.000420e+00  1.000420e+00     1.000420e+00  1.000420e+00   \n",
       "min   -2.749564e+00 -1.798576e+00    -2.387770e+00 -7.197486e+00   \n",
       "25%   -7.184065e-01  5.559954e-01    -2.489320e-01 -6.619309e-01   \n",
       "50%    2.991489e-02  5.559954e-01     8.204870e-01 -1.173013e-01   \n",
       "75%    6.713332e-01  5.559954e-01     8.204870e-01  4.273283e-01   \n",
       "max    2.488685e+00  5.559954e-01     8.204870e-01  3.695106e+00   \n",
       "\n",
       "        cholesterol  fasting blood sugar   resting ecg  max heart rate  \\\n",
       "count  1.190000e+03         1.190000e+03  1.190000e+03    1.190000e+03   \n",
       "mean   7.165137e-17         5.970947e-17 -2.388379e-17   -4.060244e-16   \n",
       "std    1.000420e+00         1.000420e+00  1.000420e+00    1.000420e+00   \n",
       "min   -2.075047e+00        -5.209295e-01 -8.026723e-01   -3.125928e+00   \n",
       "25%   -2.205991e-01        -5.209295e-01 -8.026723e-01   -7.344195e-01   \n",
       "50%    1.838284e-01        -5.209295e-01 -8.026723e-01    3.007918e-02   \n",
       "75%    5.857899e-01        -5.209295e-01  1.496197e+00    7.945778e-01   \n",
       "max    3.872997e+00         1.919646e+00  1.496197e+00    2.441190e+00   \n",
       "\n",
       "       exercise angina       oldpeak      ST slope  \n",
       "count     1.190000e+03  1.190000e+03  1.190000e+03  \n",
       "mean      7.762232e-17  8.956421e-17 -3.582568e-17  \n",
       "std       1.000420e+00  1.000420e+00  1.000420e+00  \n",
       "min      -7.952189e-01 -3.244162e+00 -2.662017e+00  \n",
       "25%      -7.952189e-01 -8.497924e-01 -1.023217e+00  \n",
       "50%      -7.952189e-01 -2.972455e-01  6.155828e-01  \n",
       "75%       1.257515e+00  6.236660e-01  6.155828e-01  \n",
       "max       1.257515e+00  4.859859e+00  2.254383e+00  "
      ]
     },
     "execution_count": 4,
     "metadata": {},
     "output_type": "execute_result"
    }
   ],
   "source": [
    "# import normalizer\n",
    "from sklearn.preprocessing import StandardScaler\n",
    "scaler = StandardScaler()\n",
    "scaled = scaler.fit_transform(features)\n",
    "\n",
    "df_scaled = pd.DataFrame(scaled, columns = features.columns)\n",
    "df_scaled.describe()"
   ]
  },
  {
   "cell_type": "code",
   "execution_count": 6,
   "metadata": {},
   "outputs": [
    {
     "data": {
      "text/plain": [
       "<Axes: >"
      ]
     },
     "execution_count": 6,
     "metadata": {},
     "output_type": "execute_result"
    },
    {
     "data": {
      "image/png": "[encoded data removed]",
      "text/plain": [
       "<Figure size 640x480 with 2 Axes>"
      ]
     },
     "metadata": {},
     "output_type": "display_data"
    }
   ],
   "source": [
    "import matplotlib.pyplot as plt\n",
    "import seaborn as sns\n",
    "sns.heatmap(abs(df_scaled.corr()))\n"
   ]
  },
  {
   "cell_type": "code",
   "execution_count": 7,
   "metadata": {},
   "outputs": [
    {
     "data": {
      "text/plain": [
       "target                 1.000000\n",
       "ST slope               0.505608\n",
       "exercise angina        0.481467\n",
       "chest pain type        0.460127\n",
       "oldpeak                0.398385\n",
       "sex                    0.311267\n",
       "age                    0.262029\n",
       "fasting blood sugar    0.216695\n",
       "resting bp s           0.121415\n",
       "resting ecg            0.073059\n",
       "cholesterol           -0.198366\n",
       "max heart rate        -0.413278\n",
       "Name: target, dtype: float64"
      ]
     },
     "execution_count": 7,
     "metadata": {},
     "output_type": "execute_result"
    }
   ],
   "source": [
    "# correlation betwqeen features and target\n",
    "df_scaled['target'] = target\n",
    "df_scaled.corr()['target'].sort_values(ascending=False)\n"
   ]
  },
  {
   "cell_type": "code",
   "execution_count": 17,
   "metadata": {},
   "outputs": [
    {
     "data": {
      "text/html": [
       "<div>\n",
       "<style scoped>\n",
       "    .dataframe tbody tr th:only-of-type {\n",
       "        vertical-align: middle;\n",
       "    }\n",
       "\n",
       "    .dataframe tbody tr th {\n",
       "        vertical-align: top;\n",
       "    }\n",
       "\n",
       "    .dataframe thead th {\n",
       "        text-align: right;\n",
       "    }\n",
       "</style>\n",
       "<table border=\"1\" class=\"dataframe\">\n",
       "  <thead>\n",
       "    <tr style=\"text-align: right;\">\n",
       "      <th></th>\n",
       "      <th>age</th>\n",
       "      <th>sex</th>\n",
       "      <th>chest pain type</th>\n",
       "      <th>resting bp s</th>\n",
       "      <th>cholesterol</th>\n",
       "      <th>fasting blood sugar</th>\n",
       "      <th>resting ecg</th>\n",
       "      <th>max heart rate</th>\n",
       "      <th>exercise angina</th>\n",
       "      <th>oldpeak</th>\n",
       "      <th>ST slope</th>\n",
       "    </tr>\n",
       "  </thead>\n",
       "  <tbody>\n",
       "    <tr>\n",
       "      <th>count</th>\n",
       "      <td>918.000000</td>\n",
       "      <td>918.000000</td>\n",
       "      <td>918.000000</td>\n",
       "      <td>918.000000</td>\n",
       "      <td>918.000000</td>\n",
       "      <td>918.000000</td>\n",
       "      <td>918.000000</td>\n",
       "      <td>918.000000</td>\n",
       "      <td>918.000000</td>\n",
       "      <td>918.000000</td>\n",
       "      <td>918.000000</td>\n",
       "    </tr>\n",
       "    <tr>\n",
       "      <th>mean</th>\n",
       "      <td>0.520630</td>\n",
       "      <td>0.789760</td>\n",
       "      <td>0.750545</td>\n",
       "      <td>0.661983</td>\n",
       "      <td>0.329684</td>\n",
       "      <td>0.233115</td>\n",
       "      <td>0.301743</td>\n",
       "      <td>0.540911</td>\n",
       "      <td>0.404139</td>\n",
       "      <td>0.396291</td>\n",
       "      <td>0.545389</td>\n",
       "    </tr>\n",
       "    <tr>\n",
       "      <th>std</th>\n",
       "      <td>0.192502</td>\n",
       "      <td>0.407701</td>\n",
       "      <td>0.310344</td>\n",
       "      <td>0.092571</td>\n",
       "      <td>0.181400</td>\n",
       "      <td>0.423046</td>\n",
       "      <td>0.402984</td>\n",
       "      <td>0.179298</td>\n",
       "      <td>0.490992</td>\n",
       "      <td>0.121201</td>\n",
       "      <td>0.203114</td>\n",
       "    </tr>\n",
       "    <tr>\n",
       "      <th>min</th>\n",
       "      <td>0.000000</td>\n",
       "      <td>0.000000</td>\n",
       "      <td>0.000000</td>\n",
       "      <td>0.000000</td>\n",
       "      <td>0.000000</td>\n",
       "      <td>0.000000</td>\n",
       "      <td>0.000000</td>\n",
       "      <td>0.000000</td>\n",
       "      <td>0.000000</td>\n",
       "      <td>0.000000</td>\n",
       "      <td>0.000000</td>\n",
       "    </tr>\n",
       "    <tr>\n",
       "      <th>25%</th>\n",
       "      <td>0.387755</td>\n",
       "      <td>1.000000</td>\n",
       "      <td>0.666667</td>\n",
       "      <td>0.600000</td>\n",
       "      <td>0.287313</td>\n",
       "      <td>0.000000</td>\n",
       "      <td>0.000000</td>\n",
       "      <td>0.422535</td>\n",
       "      <td>0.000000</td>\n",
       "      <td>0.295455</td>\n",
       "      <td>0.333333</td>\n",
       "    </tr>\n",
       "    <tr>\n",
       "      <th>50%</th>\n",
       "      <td>0.530612</td>\n",
       "      <td>1.000000</td>\n",
       "      <td>1.000000</td>\n",
       "      <td>0.650000</td>\n",
       "      <td>0.369818</td>\n",
       "      <td>0.000000</td>\n",
       "      <td>0.000000</td>\n",
       "      <td>0.549296</td>\n",
       "      <td>0.000000</td>\n",
       "      <td>0.363636</td>\n",
       "      <td>0.666667</td>\n",
       "    </tr>\n",
       "    <tr>\n",
       "      <th>75%</th>\n",
       "      <td>0.653061</td>\n",
       "      <td>1.000000</td>\n",
       "      <td>1.000000</td>\n",
       "      <td>0.700000</td>\n",
       "      <td>0.442786</td>\n",
       "      <td>0.000000</td>\n",
       "      <td>0.500000</td>\n",
       "      <td>0.676056</td>\n",
       "      <td>1.000000</td>\n",
       "      <td>0.465909</td>\n",
       "      <td>0.666667</td>\n",
       "    </tr>\n",
       "    <tr>\n",
       "      <th>max</th>\n",
       "      <td>1.000000</td>\n",
       "      <td>1.000000</td>\n",
       "      <td>1.000000</td>\n",
       "      <td>1.000000</td>\n",
       "      <td>1.000000</td>\n",
       "      <td>1.000000</td>\n",
       "      <td>1.000000</td>\n",
       "      <td>1.000000</td>\n",
       "      <td>1.000000</td>\n",
       "      <td>1.000000</td>\n",
       "      <td>1.000000</td>\n",
       "    </tr>\n",
       "  </tbody>\n",
       "</table>\n",
       "</div>"
      ],
      "text/plain": [
       "              age         sex  chest pain type  resting bp s  cholesterol  \\\n",
       "count  918.000000  918.000000       918.000000    918.000000   918.000000   \n",
       "mean     0.520630    0.789760         0.750545      0.661983     0.329684   \n",
       "std      0.192502    0.407701         0.310344      0.092571     0.181400   \n",
       "min      0.000000    0.000000         0.000000      0.000000     0.000000   \n",
       "25%      0.387755    1.000000         0.666667      0.600000     0.287313   \n",
       "50%      0.530612    1.000000         1.000000      0.650000     0.369818   \n",
       "75%      0.653061    1.000000         1.000000      0.700000     0.442786   \n",
       "max      1.000000    1.000000         1.000000      1.000000     1.000000   \n",
       "\n",
       "       fasting blood sugar  resting ecg  max heart rate  exercise angina  \\\n",
       "count           918.000000   918.000000      918.000000       918.000000   \n",
       "mean              0.233115     0.301743        0.540911         0.404139   \n",
       "std               0.423046     0.402984        0.179298         0.490992   \n",
       "min               0.000000     0.000000        0.000000         0.000000   \n",
       "25%               0.000000     0.000000        0.422535         0.000000   \n",
       "50%               0.000000     0.000000        0.549296         0.000000   \n",
       "75%               0.000000     0.500000        0.676056         1.000000   \n",
       "max               1.000000     1.000000        1.000000         1.000000   \n",
       "\n",
       "          oldpeak    ST slope  \n",
       "count  918.000000  918.000000  \n",
       "mean     0.396291    0.545389  \n",
       "std      0.121201    0.203114  \n",
       "min      0.000000    0.000000  \n",
       "25%      0.295455    0.333333  \n",
       "50%      0.363636    0.666667  \n",
       "75%      0.465909    0.666667  \n",
       "max      1.000000    1.000000  "
      ]
     },
     "execution_count": 17,
     "metadata": {},
     "output_type": "execute_result"
    }
   ],
   "source": [
    "# ijmport minmaxscaler\n",
    "from sklearn.preprocessing import MinMaxScaler\n",
    "scaler = MinMaxScaler()\n",
    "scaled = scaler.fit_transform(features)\n",
    "\n",
    "df_scaled = pd.DataFrame(scaled, columns = features.columns)\n",
    "df_scaled.describe()"
   ]
  },
  {
   "cell_type": "code",
   "execution_count": 42,
   "metadata": {},
   "outputs": [
    {
     "data": {
      "text/plain": [
       "0.782608695652174"
      ]
     },
     "execution_count": 42,
     "metadata": {},
     "output_type": "execute_result"
    }
   ],
   "source": [
    "# create decision tree\n",
    "from sklearn.tree import DecisionTreeClassifier\n",
    "from sklearn.model_selection import train_test_split\n",
    "from sklearn.metrics import accuracy_score\n",
    "\n",
    "classifier = DecisionTreeClassifier(criterion='entropy',random_state=1, min_samples_split=40)\n",
    "\n",
    "X_train, X_test, y_train, y_test = train_test_split(df_scaled, target, test_size=0.2, random_state=1)\n",
    "X_train, X_val, y_train, y_val = train_test_split(X_train, y_train, test_size=0.25, random_state=1)\n",
    "\n",
    "classifier.fit(X_train, y_train)\n",
    "y_pred = classifier.predict(X_val)\n",
    "accuracy_score(y_val, y_pred)\n"
   ]
  }
 ],
 "metadata": {
  "kernelspec": {
   "display_name": "Python 3 (ipykernel)",
   "language": "python",
   "name": "python3"
  },
  "language_info": {
   "codemirror_mode": {
    "name": "ipython",
    "version": 3
   },
   "file_extension": ".py",
   "mimetype": "text/x-python",
   "name": "python",
   "nbconvert_exporter": "python",
   "pygments_lexer": "ipython3",
   "version": "3.11.4"
  }
 },
 "nbformat": 4,
 "nbformat_minor": 4
}
